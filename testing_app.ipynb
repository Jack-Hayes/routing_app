{
 "cells": [
  {
   "cell_type": "code",
   "execution_count": 269,
   "metadata": {},
   "outputs": [
    {
     "data": {
      "application/vnd.jupyter.widget-view+json": {
       "model_id": "9cba86ebe53b453ab417333bf1c2396b",
       "version_major": 2,
       "version_minor": 0
      },
      "text/plain": [
       "BokehModel(combine_events=True, render_bundle={'docs_json': {'49a490f1-d27a-43f5-ae68-8a95e15689df': {'version…"
      ]
     },
     "execution_count": 269,
     "metadata": {},
     "output_type": "execute_result"
    }
   ],
   "source": [
    "import panel as pn\n",
    "import pandas as pd\n",
    "import numpy as np\n",
    "\n",
    "\n",
    "file_input = pn.widgets.FileInput(accept='.csv', name='Upload CSV')\n",
    "\n",
    "def load_csv(data):\n",
    "    import io\n",
    "    if data is not None:\n",
    "        global df\n",
    "        df = pd.read_csv(io.BytesIO(data))\n",
    "        global orgin_lon, orgin_lat, dest_lon, dest_lat\n",
    "        orgin_lon = pn.widgets.Select(name=\"Origin Lontitue\", value=\"ZIP_lon\", options=list(df.columns))\n",
    "        orgin_lat = pn.widgets.Select(name=\"Origin Latitude\", value=\"ZIP_lat\", options=list(df.columns) )\n",
    "        dest_lon = pn.widgets.Select(name=\"Destination Longitude\", value=\"AHA_ID_lon\", options=list(df.columns))\n",
    "        dest_lat = pn.widgets.Select(name=\"Destination Latitude\", value=\"AHA_ID_lat\", options=list(df.columns))\n",
    "        od_col_slect_view = pn.Column(\"## Select the columns for origin and destination\", pn.Row(orgin_lon, orgin_lat, dest_lon, dest_lat))\n",
    "        return pn.Column(\"## Preview of your data (first 5 rows, there are %d rows in total)\"%df.shape[0],pn.pane.DataFrame(df.head(5)),\n",
    "                         od_col_slect_view\n",
    "                        )\n",
    "\n",
    "\n",
    "active_load_csv = pn.bind(load_csv, file_input.param.value)\n",
    "\n",
    "\n",
    "# pn.Column(file_input, active_load_csv)\n",
    "\n",
    "data_upload_view = pn.Column(\"## Select data need to be calculated\",file_input,active_load_csv)\n",
    "data_upload_view"
   ]
  },
  {
   "cell_type": "code",
   "execution_count": 264,
   "metadata": {},
   "outputs": [
    {
     "data": {
      "application/vnd.jupyter.widget-view+json": {
       "model_id": "d4cf4ecc95fb4881b759aec1611e5d1c",
       "version_major": 2,
       "version_minor": 0
      },
      "text/plain": [
       "BokehModel(combine_events=True, render_bundle={'docs_json': {'a2d34ee1-3e43-4afa-a21c-15694c0457ca': {'version…"
      ]
     },
     "execution_count": 264,
     "metadata": {},
     "output_type": "execute_result"
    }
   ],
   "source": [
    "from georouting.routers import OSRMRouter\n",
    "from panel.widgets import Tqdm\n",
    "tqdm = Tqdm()\n",
    "# create a router object \n",
    "router = OSRMRouter(mode=\"driving\")\n",
    "\n",
    "def calculate_distance(run):\n",
    "    if not run:\n",
    "        yield \"Calculation did not run yet\"\n",
    "        return\n",
    "    for k,v in tqdm(df.iterrows(), total=df.shape[0]):\n",
    "        origin = (v[orgin_lon.value], v[orgin_lat.value])\n",
    "        destination = (v[dest_lon.value], v[dest_lat.value])\n",
    "        route = router.get_route(origin, destination)\n",
    "        df.loc[k, 'distance (m)'] = route.get_distance()\n",
    "        df.loc[k, 'duration (s)'] = route.get_duration()\n",
    "    \n",
    "    final_table = pn.pane.DataFrame(df.head(5), sizing_mode='stretch_width')\n",
    "    from io import StringIO\n",
    "    sio = StringIO()\n",
    "    df.to_csv(sio)\n",
    "    sio.seek(0)\n",
    "    download_view = pn.widgets.FileDownload(sio, embed=True, filename='results.csv')\n",
    "    table_download_view = pn.Column(\"## Processed data\",download_view,final_table)\n",
    "    \n",
    "    yield table_download_view\n",
    "\n",
    "# def runner(run):\n",
    "#     if not run:\n",
    "#         yield \"Calculation did not run yet\"\n",
    "#         return\n",
    "#     for i in range(101):\n",
    "#         time.sleep(0.01) # Some calculation\n",
    "#         yield pn.Column(\n",
    "#             'Running ({i}/100%)', pn.indicators.Progress(value=i)\n",
    "#         )\n",
    "#     yield \"Success ✅︎\"\n",
    "\n",
    "\n",
    "run = pn.widgets.Button(name=\"Press to run calculation\")\n",
    "\n",
    "# on_cli = button.on_click(calculate_distance)\n",
    "\n",
    "run_and_download = pn.Column(run, tqdm, pn.bind(calculate_distance, run))\n",
    "\n",
    "\n",
    "\n",
    "\n",
    "         \n",
    "# pn.Column(button,tqdm)\n",
    "# table_download_view = pn.bind(table_download, button.param.value)\n",
    "# run_and_download = pn.Column(button,tqdm,table_download_view)\n",
    "run_and_download"
   ]
  },
  {
   "cell_type": "code",
   "execution_count": 245,
   "metadata": {},
   "outputs": [
    {
     "data": {
      "application/vnd.jupyter.widget-view+json": {
       "model_id": "0f07d584a327474bb030e631d62c84d2",
       "version_major": 2,
       "version_minor": 0
      },
      "text/plain": [
       "BokehModel(combine_events=True, render_bundle={'docs_json': {'adebe36b-7d82-42b9-ba19-1d45f1b4086d': {'version…"
      ]
     },
     "execution_count": 245,
     "metadata": {},
     "output_type": "execute_result"
    },
    {
     "name": "stderr",
     "output_type": "stream",
     "text": [
      "WARNING:bokeh.core.validation.check:W-1005 (FIXED_SIZING_MODE): 'fixed' sizing mode requires width and height to be set: Column(id='8b67c0c1-1fad-4a99-ac5c-b84972373de7', ...)\n"
     ]
    }
   ],
   "source": [
    "intro = pn.pane.Markdown(\"\"\"\n",
    "# Routing Calculator\n",
    "This app is used to calculate the distance and duration between two points. This app is developed by [Xiaokang Fu](https://gis.harvard.edu/people/xiaokang-fu) and [Devika Kakkar](https://gis.harvard.edu/people/devika-kakkar).\n",
    "Please contact [Devika Kakkar](mailto:kakkar@fas.harvard.edu) for any questions.\n",
    " \"\"\", \n",
    "sizing_mode='stretch_width'\n",
    ")\n",
    "intro"
   ]
  },
  {
   "cell_type": "code",
   "execution_count": 246,
   "metadata": {},
   "outputs": [
    {
     "data": {
      "application/vnd.jupyter.widget-view+json": {
       "model_id": "618f305ad54b403e8c6d17a6db8a8f93",
       "version_major": 2,
       "version_minor": 0
      },
      "text/plain": [
       "BokehModel(combine_events=True, render_bundle={'docs_json': {'13add266-549c-4e44-aaa4-03c012fd9fce': {'version…"
      ]
     },
     "execution_count": 246,
     "metadata": {},
     "output_type": "execute_result"
    }
   ],
   "source": [
    "\n",
    "app = pn.Column(\n",
    "       intro,\n",
    "        data_upload_view,\n",
    "        run_and_download\n",
    "        )\n",
    "app"
   ]
  },
  {
   "cell_type": "code",
   "execution_count": 224,
   "metadata": {},
   "outputs": [],
   "source": [
    "# app.show()"
   ]
  },
  {
   "cell_type": "code",
   "execution_count": 258,
   "metadata": {},
   "outputs": [
    {
     "name": "stdout",
     "output_type": "stream",
     "text": [
      "Launching server at http://localhost:63560\n"
     ]
    },
    {
     "name": "stderr",
     "output_type": "stream",
     "text": [
      "WARNING:bokeh.core.validation.check:W-1005 (FIXED_SIZING_MODE): 'fixed' sizing mode requires width and height to be set: Column(id='10089865-9173-4dfc-b984-27645262e6ff', ...)\n",
      "WARNING:bokeh.core.validation.check:W-1005 (FIXED_SIZING_MODE): 'fixed' sizing mode requires width and height to be set: Column(id='1928a374-9e1a-4f1e-91b4-a6bb59a3cf0d', ...)\n"
     ]
    }
   ],
   "source": [
    "# Instantiate the template with widgets displayed in the sidebar\n",
    "template = pn.template.FastListTemplate(\n",
    "    title='Routing Calculator',\n",
    "    logo='https://dssg.fas.harvard.edu/wp-content/uploads/2017/12/CGA_logo_globe_400x400.jpg',\n",
    "    favicon = 'https://dssg.fas.harvard.edu/wp-content/uploads/2017/12/CGA_logo_globe_400x400.jpg',\n",
    "    header_background = '#212121',\n",
    "    header_color = '#2F6DAA',\n",
    ")\n",
    "\n",
    "# set relative sizing of the main area and sidebar\n",
    "\n",
    "# Append a layout to the main area, to demonstrate the list-like API\n",
    "template.main.append(app)\n",
    "template.main.append(app)\n",
    "template.servable()"
   ]
  }
 ],
 "metadata": {
  "kernelspec": {
   "display_name": "base",
   "language": "python",
   "name": "python3"
  },
  "language_info": {
   "codemirror_mode": {
    "name": "ipython",
    "version": 3
   },
   "file_extension": ".py",
   "mimetype": "text/x-python",
   "name": "python",
   "nbconvert_exporter": "python",
   "pygments_lexer": "ipython3",
   "version": "3.11.4"
  },
  "orig_nbformat": 4
 },
 "nbformat": 4,
 "nbformat_minor": 2
}
